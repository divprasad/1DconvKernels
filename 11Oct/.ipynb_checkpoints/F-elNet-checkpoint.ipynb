{
 "cells": [
  {
   "cell_type": "code",
   "execution_count": 1,
   "metadata": {},
   "outputs": [],
   "source": [
    "import numpy as np\n",
    "import matplotlib.pyplot as plt\n",
    "import os\n",
    "import pandas as pd\n",
    "import datetime\n",
    "from IPython.display import SVG\n",
    "from sklearn.model_selection import KFold\n",
    "from sklearn import metrics\n",
    "from sklearn.linear_model import LogisticRegression\n",
    "\n",
    "from itertools import cycle\n",
    "from sklearn.linear_model import lasso_path, enet_path\n"
   ]
  },
  {
   "cell_type": "code",
   "execution_count": 2,
   "metadata": {},
   "outputs": [],
   "source": [
    "from sklearn.metrics import roc_curve\n",
    "from sklearn.metrics import roc_auc_score\n",
    "from sklearn.metrics import auc\n",
    "\n",
    "from sklearn.metrics import accuracy_score\n",
    "from sklearn.metrics import precision_score\n",
    "from sklearn.metrics import recall_score\n",
    "from sklearn.metrics import f1_score\n",
    "from sklearn.metrics import cohen_kappa_score\n",
    "from sklearn.metrics import roc_auc_score\n",
    "from sklearn.metrics import confusion_matrix\n"
   ]
  },
  {
   "cell_type": "code",
   "execution_count": 3,
   "metadata": {},
   "outputs": [],
   "source": [
    "SMALL_SIZE = 10\n",
    "MEDIUM_SIZE = 15\n",
    "BIGGER_SIZE = 18\n",
    "\n",
    "# font = {'family' : 'monospace',\n",
    "#         'weight' : 'bold',\n",
    "#         'size'   : 'larger'}\n",
    "\n",
    "#plt.rc('font', **font)  # pass in the font dict as kwargs\n",
    "plt.rc('font', size=MEDIUM_SIZE,family='normal',weight='normal')          # controls default text sizes\n",
    "plt.rc('axes', titlesize=MEDIUM_SIZE,)     # fontsize of the axes title\n",
    "plt.rc('axes', labelsize=MEDIUM_SIZE,)    # fontsize of the x and y labels\n",
    "plt.rc('xtick', labelsize=MEDIUM_SIZE)    # fontsize of the tick labels\n",
    "plt.rc('ytick', labelsize=MEDIUM_SIZE)    # fontsize of the tick labels\n",
    "plt.rc('legend', fontsize=SMALL_SIZE)    # legend fontsize\n",
    "plt.rc('figure', titlesize=BIGGER_SIZE,titleweight='bold')  # fontsize of the figure title\n",
    "#plt.rc('xtick', labelsize=15) \n",
    "#plt.rc('ytick', labelsize=15) "
   ]
  },
  {
   "cell_type": "code",
   "execution_count": 4,
   "metadata": {},
   "outputs": [
    {
     "name": "stdout",
     "output_type": "stream",
     "text": [
      "2019-10-02 18:45:23.400627\n"
     ]
    }
   ],
   "source": [
    "np.random.seed(42)\n",
    "print(str(datetime.datetime.now()))\n"
   ]
  },
  {
   "cell_type": "code",
   "execution_count": 5,
   "metadata": {},
   "outputs": [
    {
     "data": {
      "text/plain": [
       "LogisticRegression(C=0.81, class_weight=None, dual=False, fit_intercept=True,\n",
       "                   intercept_scaling=1, l1_ratio=0.6, max_iter=100,\n",
       "                   multi_class='warn', n_jobs=-1, penalty='elasticnet',\n",
       "                   random_state=None, solver='saga', tol=0.01, verbose=0,\n",
       "                   warm_start=False)"
      ]
     },
     "execution_count": 5,
     "metadata": {},
     "output_type": "execute_result"
    }
   ],
   "source": [
    "NBname='_F-elNet'\n",
    "N_folds=4\n",
    "np.random.seed(100)\n",
    "kf = KFold(n_splits=N_folds, shuffle=False)\n",
    "\n",
    "rm='res_x.npy'\n",
    "rl='res_y.npy'\n",
    "rdata=np.load(os.path.abspath(rm))\n",
    "rlabels=np.load(os.path.abspath(rl))\n",
    "\n",
    "sm='sen_x.npy'\n",
    "sl='sen_y.npy'\n",
    "sdata=np.load(os.path.abspath(sm))\n",
    "slabels=np.load(os.path.abspath(sl))\n",
    "\n",
    "fmtim='testim_x.npy'\n",
    "fltim='testim_y.npy'\n",
    "testim=np.load(os.path.abspath(fmtim))\n",
    "tlabelsim=np.load(os.path.abspath(fltim))\n",
    "\n",
    "fmtb='testb_x.npy'\n",
    "fltb='testb_y.npy'\n",
    "testb=np.load(os.path.abspath(fmtb))\n",
    "tlabelsb=np.load(os.path.abspath(fltb))\n",
    "\n",
    "# =================\n",
    "# Do once!\n",
    "# =================\n",
    "sen_batch = np.random.RandomState(seed=45).permutation(sdata.shape[0])\n",
    "bins = np.linspace(0, 200, 41)\n",
    "digitized = np.digitize(sen_batch, bins,right=False)\n",
    "# ================\n",
    "\n",
    "# ===============================\n",
    "# # FINAL TRAIN\n",
    "# ===============================\n",
    "train_idx_k=np.random.permutation(rdata.shape[0])\n",
    "s_x=sdata[np.isin(digitized,train_idx_k+1)]\n",
    "s_y=slabels[np.isin(digitized,train_idx_k+1)]\n",
    "r_x=np.concatenate((rdata[train_idx_k],rdata[train_idx_k],rdata[train_idx_k],rdata[train_idx_k],rdata[train_idx_k]))\n",
    "r_y=np.concatenate((rlabels[train_idx_k],rlabels[train_idx_k],rlabels[train_idx_k],rlabels[train_idx_k],rlabels[train_idx_k]))\n",
    "\n",
    "f_train_x, f_train_y = np.concatenate((s_x,r_x)), np.concatenate((s_y,r_y)) \n",
    "train_shuf_idx = np.random.permutation(f_train_x.shape[0])\n",
    "x_train, y_train = f_train_x[train_shuf_idx], f_train_y[train_shuf_idx]\n",
    "\n",
    "# x_better_test=x_test.reshape(x_test.shape[0],x_test.shape[1])\n",
    "# y_better_test=y_test.reshape(y_test.shape[0],y_test.shape[1])\n",
    "# y_better_test=y_better_test[:,1]\n",
    "\n",
    "x_better_train=x_train.reshape(x_train.shape[0],x_train.shape[1])\n",
    "y_better_train=y_train.reshape(y_train.shape[0],y_train.shape[1])\n",
    "y_better_train=y_better_train[:,1]\n",
    "\n",
    "xb_better_test=testb.reshape(testb.shape[0],testb.shape[1])\n",
    "yb_better_test=tlabelsb.reshape(tlabelsb.shape[0],tlabelsb.shape[1])\n",
    "yb_better_test=yb_better_test[:,1]\n",
    "\n",
    "xim_better_test=testim.reshape(testim.shape[0],testim.shape[1])\n",
    "yim_better_test=tlabelsim.reshape(tlabelsim.shape[0],tlabelsim.shape[1])\n",
    "yim_better_test=yim_better_test[:,1]\n",
    "\n",
    "# l1rat=0.4\n",
    "# C=0.61\n",
    "\n",
    "l1rat=0.6\n",
    "C=0.81\n",
    "\n",
    "LR = LogisticRegression(C=C, tol=0.01, penalty='elasticnet', solver='saga', n_jobs=-1, l1_ratio=l1rat)\n",
    "LR.fit(x_better_train,y_better_train)\n",
    "\n",
    "# y_pred = regE.predict(xb_better_test)\n",
    "\n",
    "# mname1='f1'+NBname+'.h5'\n",
    "# mname2='f2'+NBname+'.h5'\n",
    "# regE1.save(mname1)\n",
    "# regE2.save(mname2)\n",
    "\n",
    "# # =======================\n",
    "# # ONLY FOR CROSS-VAL\n",
    "# # =======================\n",
    "\n",
    "# i=0\n",
    "# # logistic=[]\n",
    "\n",
    "# l1rat=0.5\n",
    "\n",
    "# acc1=[]\n",
    "# acc2=[]\n",
    "# acc3=[]\n",
    "\n",
    "# # callbacks = [EarlyStopping(monitor='val_loss', patience=10),\n",
    "# #              ModelCheckpoint(filepath='best_model'+NBname+'.h5', monitor='val_loss', save_best_only=True)]\n",
    "\n",
    "\n",
    "\n",
    "# for train_idx_k, val_idx_k in kf.split(rdata):\n",
    "#     print (\"Running Fold\", i+1, \"/\", N_folds)\n",
    "#     f= open('perform_'+str(i+1)+NBname+'.txt', \"a\")\n",
    "#     # ===============================\n",
    "#     # select train\n",
    "#     # ===============================\n",
    "\n",
    "#     s_train_x=sdata[np.isin(digitized,train_idx_k+1)]\n",
    "#     s_train_y=slabels[np.isin(digitized,train_idx_k+1)]\n",
    "#     r_train_x=np.concatenate((rdata[train_idx_k],rdata[train_idx_k],rdata[train_idx_k],rdata[train_idx_k],rdata[train_idx_k]))\n",
    "#     r_train_y=np.concatenate((rlabels[train_idx_k],rlabels[train_idx_k],rlabels[train_idx_k],rlabels[train_idx_k],rlabels[train_idx_k]))\n",
    "\n",
    "#     # ===============================\n",
    "#     # select val\n",
    "#     # ===============================\n",
    "\n",
    "#     s_val_x=sdata[np.isin(digitized,val_idx_k+1)]\n",
    "#     s_val_y=slabels[np.isin(digitized,val_idx_k+1)]\n",
    "\n",
    "#     r_val_x=np.concatenate((rdata[val_idx_k],rdata[val_idx_k],rdata[val_idx_k],rdata[val_idx_k],rdata[val_idx_k]))\n",
    "#     r_val_y=np.concatenate((rlabels[val_idx_k],rlabels[val_idx_k],rlabels[val_idx_k],rlabels[val_idx_k],rlabels[val_idx_k]))\n",
    "\n",
    "#     # ===============================\n",
    "#     # concatenate F_train/val_x/y\n",
    "#     # ===============================\n",
    "\n",
    "#     f_train_x, f_train_y = np.concatenate((s_train_x,r_train_x)), np.concatenate((s_train_y,r_train_y)) \n",
    "# #     train_shuf_idx = np.random.permutation(f_train_x.shape[0])\n",
    "# #     F_train_x, F_train_y = f_train_x[train_shuf_idx], f_train_y[train_shuf_idx]\n",
    "\n",
    "#     f_val_x, f_val_y = np.concatenate((s_val_x,r_val_x)), np.concatenate((s_val_y,r_val_y))\n",
    "# #     val_shuf_idx = np.random.permutation(f_val_x.shape[0])\n",
    "# #     F_val_x, F_val_y = f_val_x[val_shuf_idx], f_val_y[val_shuf_idx]\n",
    "\n",
    "#     # ===============================\n",
    "#     # shuffle just because we can?\n",
    "#     # ===============================\n",
    "#     train_shuf_idx = np.random.permutation(f_train_x.shape[0])\n",
    "#     x_train_CV, y_train_CV = f_train_x[train_shuf_idx], f_train_y[train_shuf_idx]\n",
    "\n",
    "#     val_shuf_idx = np.random.permutation(f_val_x.shape[0])\n",
    "#     x_val_CV, y_val_CV = f_val_x[val_shuf_idx], f_val_y[val_shuf_idx] \n",
    "\n",
    "#     x_better_val=x_val_CV.reshape(x_val_CV.shape[0],x_val_CV.shape[1])\n",
    "#     y_better_val=y_val_CV.reshape(y_val_CV.shape[0],y_val_CV.shape[1])\n",
    "#     y_better_val=y_better_val[:,1]\n",
    "\n",
    "#     x_better_train=x_train_CV.reshape(x_train_CV.shape[0],x_train_CV.shape[1])\n",
    "#     y_better_train=y_train_CV.reshape(y_train_CV.shape[0],y_train_CV.shape[1])\n",
    "#     y_better_train=y_better_train[:,1]\n",
    "    \n",
    "#     f.write('start of ' + str(i+1) + ' fold\\n')\n",
    "    \n",
    "#     l1rat=0.4\n",
    "#     C=0.61\n",
    "    \n",
    "#     clf_en_LR = LogisticRegression(C=C, tol=0.01, penalty='elasticnet', solver='saga', n_jobs=-1, l1_ratio=l1rat)\n",
    "#     regE=clf_en_LR.fit(x_better_train,y_better_train)\n",
    "#     y_pred = regE.predict(x_better_val)\n",
    "#     acc1.append(metrics.accuracy_score(y_pred,y_better_val))\n",
    "    \n",
    "    \n",
    "#     l1rat=0.4\n",
    "#     C=0.61\n",
    "    \n",
    "#     clf_en_LR = LogisticRegression(C=C, tol=0.01, penalty='elasticnet', solver='saga', n_jobs=-1, l1_ratio=l1rat)\n",
    "#     regE=clf_en_LR.fit(x_better_train,y_better_train)\n",
    "#     y_pred = regE.predict(x_better_val)\n",
    "#     acc2.append(metrics.accuracy_score(y_pred,y_better_val))\n",
    "# #     for x in range(5):\n",
    "\n",
    "# #         l1rat=x*0.2\n",
    "# #         f.write('l1_ratio is set to ' + str(l1rat) + '\\n')\n",
    "# #         for y in range(5):\n",
    "# #             C=1 +y*1.5\n",
    "# #             clf_l1_LR = LogisticRegression(C=C, penalty='l1', tol=0.01, solver='saga',n_jobs=-1)  \n",
    "# #             clf_l2_LR = LogisticRegression(C=C, penalty='l2', tol=0.01, solver='saga',n_jobs=-1)\n",
    "# #             clf_en_LR = LogisticRegression(C=C, tol=0.01, penalty='elasticnet', solver='saga', n_jobs=-1, l1_ratio=l1rat)\n",
    "\n",
    "# #             reg1=clf_l1_LR.fit(x_better_train, y_better_train)\n",
    "# #             reg2=clf_l2_LR.fit(x_better_train, y_better_train)\n",
    "# #             regE=clf_en_LR.fit(x_better_train,y_better_train)\n",
    "\n",
    "# #             y_pred = reg1.predict(x_better_val)\n",
    "# #             acc1.append(metrics.accuracy_score(y_pred,y_better_val))    \n",
    "# #             y_pred = reg2.predict(x_better_val)\n",
    "# #             acc2.append(metrics.accuracy_score(y_pred,y_better_val))\n",
    "# #             y_pred = regE.predict(x_better_val)\n",
    "# #             acc3.append(metrics.accuracy_score(y_pred,y_better_val))\n",
    "    \n",
    "# #         f.writelines(map('{}\\t{}\\t{}\\n'.format, acc1, acc2, acc3))\n",
    "# #         acc1=[]\n",
    "# #         acc2=[]\n",
    "# #         acc3=[]\n",
    "\n",
    "#     i=i+1\n",
    "#     f.write('done for ' + str(i) + ' fold\\n')\n",
    "#     f.write(str(datetime.datetime.now()))\n",
    "#     f.close()"
   ]
  },
  {
   "cell_type": "code",
   "execution_count": null,
   "metadata": {},
   "outputs": [],
   "source": []
  },
  {
   "cell_type": "code",
   "execution_count": 51,
   "metadata": {},
   "outputs": [],
   "source": [
    "# ==========================================================================\n",
    "# # DO NOT UNCOMMENT UNTIL THE END; DECLARES FUNCTION FOR AN UNBIASED TEST\n",
    "# ==========================================================================\n",
    "\n",
    "def plot_auc(aucies,fprs,tprs, last):\n",
    "    #plt.figure(figsize=(13,13))\n",
    "    plt.figure(figsize=(11,11))\n",
    "    plt.plot([0, 1], [0, 1], 'k--')  \n",
    "    for i in range(len(aucies)):\n",
    "        st='model_'+str(i+1)+' '\n",
    "        if i==0:\n",
    "            st='Balanced'\n",
    "        else:\n",
    "            st='Imbalanced'\n",
    "        plt.plot(fprs[i], tprs[i], label='{} (AUC= {:.3f})'.format(st,aucies[i]),linewidth=1.5)\n",
    "    \n",
    "    plt.xlabel('False positive rate')\n",
    "    plt.ylabel('True positive rate')\n",
    "    plt.title('ROC curve: LR')\n",
    "    plt.legend(loc='best')\n",
    "\n",
    "    figname='ROC'+last+'.png'\n",
    "    plt.savefig(figname,dpi=500)\n"
   ]
  },
  {
   "cell_type": "code",
   "execution_count": 52,
   "metadata": {},
   "outputs": [],
   "source": [
    "# ==========================================================================\n",
    "# # THIS IS THE UNBIASED TEST; DO NOT UNCOMMENT UNTIL THE END\n",
    "# ==========================================================================\n",
    "    \n",
    "fpr_x=[]\n",
    "tpr_x=[]\n",
    "thresholds_x=[]\n",
    "auc_x=[]\n",
    "\n",
    "pre_S=[]\n",
    "rec_S=[]\n",
    "f1_S=[]\n",
    "kap_S=[]\n",
    "acc_S=[]\n",
    "mat_S=[]\n"
   ]
  },
  {
   "cell_type": "markdown",
   "metadata": {},
   "source": [
    "# BALANCED TESTING"
   ]
  },
  {
   "cell_type": "code",
   "execution_count": 53,
   "metadata": {},
   "outputs": [
    {
     "data": {
      "image/png": "[encoded data removed]",
      "text/plain": [
       "<Figure size 792x792 with 1 Axes>"
      ]
     },
     "metadata": {
      "needs_background": "light"
     },
     "output_type": "display_data"
    }
   ],
   "source": [
    "NBname='_F-elNetb'\n",
    "\n",
    "# xb_better_test=testb.reshape(testb.shape[0],testb.shape[1])\n",
    "# yb_better_test=tlabelsb.reshape(tlabelsb.shape[0],tlabelsb.shape[1])\n",
    "# yb_better_test=yb_better_test[:,1]\n",
    "\n",
    "y_pred = LR.predict_proba(xb_better_test)\n",
    "fpr_0, tpr_0, thresholds_0 = roc_curve(yb_better_test, y_pred[:,1])\n",
    "fpr_x.append(fpr_0)\n",
    "tpr_x.append(tpr_0)\n",
    "thresholds_x.append(thresholds_0)    \n",
    "auc_x.append(auc(fpr_0, tpr_0))     \n",
    "\n",
    "testby=yb_better_test\n",
    "\n",
    "# predict probabilities for testb set\n",
    "yhat_probs = LR.predict_proba(xb_better_test)\n",
    "# predict crisp classes for testb set\n",
    "yhat_classes = LR.predict(xb_better_test)\n",
    "# # reduce to 1d array\n",
    "\n",
    "#testby1=tlabels[:,1]\n",
    "#yhat_probs = yhat_probs[:, 0]\n",
    "#yhat_classes = yhat_classes[:, 0]\n",
    "\n",
    "# accuracy: (tp + tn) / (p + n)\n",
    "acc_S.append(accuracy_score(testby, yhat_classes))\n",
    "#print('Accuracy: %f' % accuracy_score(testby, yhat_classes))\n",
    "\n",
    "#precision tp / (tp + fp)\n",
    "pre_S.append(precision_score(testby, yhat_classes))\n",
    "#print('Precision: %f' % precision_score(testby, yhat_classes))\n",
    "\n",
    "#recall: tp / (tp + fn)\n",
    "rec_S.append(recall_score(testby, yhat_classes))\n",
    "#print('Recall: %f' % recall_score(testby, yhat_classes))\n",
    "\n",
    "# f1: 2 tp / (2 tp + fp + fn)\n",
    "f1_S.append(f1_score(testby, yhat_classes))\n",
    "#print('F1 score: %f' % f1_score(testby, yhat_classes))\n",
    "\n",
    "# kappa\n",
    "kap_S.append(cohen_kappa_score(testby, yhat_classes))\n",
    "#print('Cohens kappa: %f' % cohen_kappa_score(testby, yhat_classes))\n",
    "\n",
    "# confusion matrix\n",
    "mat_S.append(confusion_matrix(testby, yhat_classes))\n",
    "#print(confusion_matrix(testby, yhat_classes))\n",
    "\n",
    "with open('perform'+NBname+'.txt', \"w\") as f:\n",
    "    \n",
    "    f.writelines(\"AUC \\t Accuracy \\t Precision \\t Recall \\t F1 \\t Kappa\\n\")\n",
    "    f.writelines(map(\"{}\\t{}\\t{}\\t{}\\t{}\\t{}\\n\".format, auc_x, acc_S, pre_S, rec_S, f1_S, kap_S))\n",
    "    for x in range(len(fpr_x)):\n",
    "        f.writelines(map(\"{}\\n\".format, mat_S[x]))\n",
    "        f.writelines(map(\"{}\\t{}\\t{}\\n\".format, fpr_x[x], tpr_x[x], thresholds_x[x]))\n",
    "    \n",
    "# ==========================================================================\n",
    "# # THIS IS THE UNBIASED testb; DO NOT UNCOMMENT UNTIL THE END\n",
    "# ==========================================================================\n",
    "\n",
    "plot_auc(auc_x,fpr_x,tpr_x,NBname)"
   ]
  },
  {
   "cell_type": "markdown",
   "metadata": {},
   "source": [
    "## to see which samples were correctly classified ..."
   ]
  },
  {
   "cell_type": "code",
   "execution_count": 54,
   "metadata": {},
   "outputs": [
    {
     "data": {
      "text/plain": [
       "array([0.91791241, 0.91791241, 0.57811525, 0.9519404 , 0.61222333,\n",
       "       0.91791241, 0.61979184, 0.94451295, 0.57811525, 0.57811525,\n",
       "       0.91791241, 0.77234803, 0.57811525, 0.56077694, 0.68372015,\n",
       "       0.94451295, 0.9519404 , 0.9519404 , 0.94451295, 0.94451295,\n",
       "       0.57811525, 0.9519404 , 0.9519404 , 0.94451295, 0.6505654 ,\n",
       "       0.91791241])"
      ]
     },
     "execution_count": 54,
     "metadata": {},
     "output_type": "execute_result"
    }
   ],
   "source": [
    "yhat_probs[yhat_probs[:,1]>=0.5,1]"
   ]
  },
  {
   "cell_type": "code",
   "execution_count": 55,
   "metadata": {},
   "outputs": [
    {
     "data": {
      "text/plain": [
       "array([False, False,  True,  True,  True, False, False,  True,  True,\n",
       "       False, False, False, False,  True, False, False, False,  True,\n",
       "        True, False, False,  True, False, False, False,  True,  True,\n",
       "       False,  True, False,  True, False,  True, False, False, False,\n",
       "       False, False, False, False,  True,  True,  True, False, False,\n",
       "       False,  True,  True, False, False,  True,  True, False, False,\n",
       "       False,  True, False,  True, False, False,  True, False, False,\n",
       "        True, False,  True, False, False, False, False])"
      ]
     },
     "execution_count": 55,
     "metadata": {},
     "output_type": "execute_result"
    }
   ],
   "source": [
    "yhat_probs[:,1]>=0.5"
   ]
  },
  {
   "cell_type": "code",
   "execution_count": 56,
   "metadata": {},
   "outputs": [
    {
     "data": {
      "text/plain": [
       "array([0., 0., 1., 1., 1., 0., 0., 1., 1., 0., 0., 0., 0., 1., 0., 0., 0.,\n",
       "       1., 1., 0., 0., 1., 0., 0., 0., 1., 1., 0., 1., 0., 1., 0., 1., 0.,\n",
       "       0., 0., 0., 0., 0., 0., 1., 1., 1., 0., 0., 0., 1., 1., 0., 0., 1.,\n",
       "       1., 0., 0., 0., 1., 0., 1., 0., 0., 1., 0., 0., 1., 0., 1., 0., 0.,\n",
       "       0., 0.], dtype=float32)"
      ]
     },
     "execution_count": 56,
     "metadata": {},
     "output_type": "execute_result"
    }
   ],
   "source": [
    "yhat_classes"
   ]
  },
  {
   "cell_type": "code",
   "execution_count": 57,
   "metadata": {
    "scrolled": true
   },
   "outputs": [
    {
     "data": {
      "text/plain": [
       "array([0., 1., 1., 1., 1., 0., 0., 1., 0., 1., 0., 0., 0., 1., 1., 0., 0.,\n",
       "       0., 1., 1., 1., 1., 0., 0., 0., 1., 1., 0., 0., 1., 1., 1., 0., 1.,\n",
       "       0., 0., 0., 0., 1., 1., 0., 1., 1., 1., 0., 0., 1., 1., 0., 1., 1.,\n",
       "       1., 0., 0., 1., 1., 0., 1., 0., 0., 1., 0., 0., 0., 1., 1., 0., 1.,\n",
       "       0., 0.], dtype=float32)"
      ]
     },
     "execution_count": 57,
     "metadata": {},
     "output_type": "execute_result"
    }
   ],
   "source": [
    "testby"
   ]
  },
  {
   "cell_type": "code",
   "execution_count": null,
   "metadata": {},
   "outputs": [],
   "source": []
  },
  {
   "cell_type": "markdown",
   "metadata": {},
   "source": [
    "# IMBALANCED TESTING"
   ]
  },
  {
   "cell_type": "code",
   "execution_count": 58,
   "metadata": {},
   "outputs": [
    {
     "data": {
      "image/png": "[encoded data removed]",
      "text/plain": [
       "<Figure size 792x792 with 1 Axes>"
      ]
     },
     "metadata": {
      "needs_background": "light"
     },
     "output_type": "display_data"
    }
   ],
   "source": [
    "NBname='_F-elNetim'\n",
    "\n",
    "# xim_better_test=testim.reshape(testim.shape[0],testim.shape[1])\n",
    "# yim_better_test=tlabelsim.reshape(tlabelsim.shape[0],tlabelsim.shape[1])\n",
    "# yim_better_test=yim_better_test[:,1]\n",
    "\n",
    "\n",
    "y_pred = LR.predict_proba(xim_better_test)#.ravel()\n",
    "fpr_0, tpr_0, thresholds_0 = roc_curve(yim_better_test, y_pred[:,1])\n",
    "fpr_x.append(fpr_0)\n",
    "tpr_x.append(tpr_0)\n",
    "thresholds_x.append(thresholds_0)    \n",
    "auc_x.append(auc(fpr_0, tpr_0))     \n",
    "\n",
    "testim=xim_better_test\n",
    "\n",
    "# predict probabilities for testim set\n",
    "yhat_probs = LR.predict_proba(testim)\n",
    "# predict crisp classes for testim set\n",
    "yhat_classes = LR.predict(testim)\n",
    "# reduce to 1d array\n",
    "testimy=tlabelsim[:,1]\n",
    "\n",
    "#testimy1=tlabels[:,1]\n",
    "#yhat_probs = yhat_probs[:, 0]\n",
    "#yhat_classes = yhat_classes[:, 0]\n",
    "\n",
    "# accuracy: (tp + tn) / (p + n)\n",
    "acc_S.append(accuracy_score(testimy, yhat_classes))\n",
    "#print('Accuracy: %f' % accuracy_score(testimy, yhat_classes))\n",
    "\n",
    "#precision tp / (tp + fp)\n",
    "pre_S.append(precision_score(testimy, yhat_classes))\n",
    "#print('Precision: %f' % precision_score(testimy, yhat_classes))\n",
    "\n",
    "#recall: tp / (tp + fn)\n",
    "rec_S.append(recall_score(testimy, yhat_classes))\n",
    "#print('Recall: %f' % recall_score(testimy, yhat_classes))\n",
    "\n",
    "# f1: 2 tp / (2 tp + fp + fn)\n",
    "f1_S.append(f1_score(testimy, yhat_classes))\n",
    "#print('F1 score: %f' % f1_score(testimy, yhat_classes))\n",
    "\n",
    "# kappa\n",
    "kap_S.append(cohen_kappa_score(testimy, yhat_classes))\n",
    "#print('Cohens kappa: %f' % cohen_kappa_score(testimy, yhat_classes))\n",
    "\n",
    "# confusion matrix\n",
    "mat_S.append(confusion_matrix(testimy, yhat_classes))\n",
    "#print(confusion_matrix(testimy, yhat_classes))\n",
    "\n",
    "with open('perform'+NBname+'.txt', \"w\") as f:\n",
    "    f.writelines(\"##THE TWO LINES ARE FOR BALANCED AND IMBALALANCED TEST\\n\")\n",
    "    f.writelines(\"#AUC \\t Accuracy \\t Precision \\t Recall \\t F1 \\t Kappa\\n\")\n",
    "    f.writelines(map(\"{}\\t{}\\t{}\\t{}\\t{}\\t{}\\n\".format, auc_x, acc_S, pre_S, rec_S, f1_S, kap_S))\n",
    "    f.writelines(\"#TRUE_SENSITIVE \\t TRUE_RESISTANT\\n\")\n",
    "    for x in range(len(fpr_x)):\n",
    "        f.writelines(map(\"{}\\n\".format, mat_S[x]))\n",
    "        #f.writelines(map(\"{}\\t{}\\t{}\\n\".format, fpr_x[x], tpr_x[x], thresholds_x[x]))\n",
    "    f.writelines(\"#FPR \\t TPR \\t THRESHOLDs\\n\")\n",
    "    for x in range(len(fpr_x)):\n",
    "        #f.writelines(map(\"{}\\n\".format, mat_S[x]))\n",
    "        f.writelines(map(\"{}\\t{}\\t{}\\n\".format, fpr_x[x], tpr_x[x], thresholds_x[x]))\n",
    "        f.writelines(\"#NEXT\\n\")\n",
    "# ==========================================================================\n",
    "# # THIS IS THE UNBIASED testim; DO NOT UNCOMMENT UNTIL THE END\n",
    "# ==========================================================================\n",
    "\n",
    "plot_auc(auc_x,fpr_x,tpr_x,NBname)"
   ]
  },
  {
   "cell_type": "markdown",
   "metadata": {},
   "source": [
    "## to see which samples were correctly classified ..."
   ]
  },
  {
   "cell_type": "code",
   "execution_count": 59,
   "metadata": {},
   "outputs": [
    {
     "data": {
      "text/plain": [
       "array([0.77234803, 0.61979184, 0.9519404 , 0.56077694, 0.6505654 ,\n",
       "       0.57811525, 0.91791241, 0.94451295, 0.61222333, 0.68372015])"
      ]
     },
     "execution_count": 59,
     "metadata": {},
     "output_type": "execute_result"
    }
   ],
   "source": [
    "yhat_probs[yhat_probs[:,1]>=0.5,1]"
   ]
  },
  {
   "cell_type": "code",
   "execution_count": 60,
   "metadata": {},
   "outputs": [
    {
     "data": {
      "text/plain": [
       "array([False, False,  True, False, False, False, False,  True, False,\n",
       "        True,  True, False,  True, False, False, False, False, False,\n",
       "       False,  True, False, False, False, False, False, False, False,\n",
       "        True, False, False,  True, False, False,  True, False, False,\n",
       "        True, False, False, False, False, False])"
      ]
     },
     "execution_count": 60,
     "metadata": {},
     "output_type": "execute_result"
    }
   ],
   "source": [
    "yhat_probs[:,1]>=0.5"
   ]
  },
  {
   "cell_type": "code",
   "execution_count": 61,
   "metadata": {},
   "outputs": [
    {
     "data": {
      "text/plain": [
       "array([0., 0., 1., 0., 0., 0., 0., 1., 0., 1., 1., 0., 1., 0., 0., 0., 0.,\n",
       "       0., 0., 1., 0., 0., 0., 0., 0., 0., 0., 1., 0., 0., 1., 0., 0., 1.,\n",
       "       0., 0., 1., 0., 0., 0., 0., 0.], dtype=float32)"
      ]
     },
     "execution_count": 61,
     "metadata": {},
     "output_type": "execute_result"
    }
   ],
   "source": [
    "yhat_classes"
   ]
  },
  {
   "cell_type": "code",
   "execution_count": 62,
   "metadata": {
    "scrolled": true
   },
   "outputs": [
    {
     "data": {
      "text/plain": [
       "array([0., 0., 0., 0., 1., 0., 0., 0., 0., 1., 0., 0., 0., 0., 0., 0., 0.,\n",
       "       0., 0., 1., 0., 1., 0., 0., 1., 0., 0., 1., 0., 0., 1., 0., 0., 0.,\n",
       "       0., 0., 0., 0., 0., 0., 0., 0.], dtype=float32)"
      ]
     },
     "execution_count": 62,
     "metadata": {},
     "output_type": "execute_result"
    }
   ],
   "source": [
    "testimy"
   ]
  },
  {
   "cell_type": "code",
   "execution_count": null,
   "metadata": {},
   "outputs": [],
   "source": []
  },
  {
   "cell_type": "markdown",
   "metadata": {},
   "source": [
    "# MISCELLANEOUS"
   ]
  },
  {
   "cell_type": "code",
   "execution_count": 40,
   "metadata": {},
   "outputs": [
    {
     "data": {
      "text/plain": [
       "[array([[29,  6],\n",
       "        [15, 20]]), array([[29,  6],\n",
       "        [ 3,  4]])]"
      ]
     },
     "execution_count": 40,
     "metadata": {},
     "output_type": "execute_result"
    }
   ],
   "source": [
    "mat_S"
   ]
  },
  {
   "cell_type": "code",
   "execution_count": 41,
   "metadata": {},
   "outputs": [
    {
     "data": {
      "text/plain": [
       "[0.6979591836734693, 0.6979591836734693]"
      ]
     },
     "execution_count": 41,
     "metadata": {},
     "output_type": "execute_result"
    }
   ],
   "source": [
    "auc_x"
   ]
  },
  {
   "cell_type": "markdown",
   "metadata": {},
   "source": [
    "# END OF TESTING"
   ]
  },
  {
   "cell_type": "code",
   "execution_count": 42,
   "metadata": {},
   "outputs": [
    {
     "name": "stdout",
     "output_type": "stream",
     "text": [
      "2019-10-03 15:09:52.177842\n"
     ]
    }
   ],
   "source": [
    "print(str(datetime.datetime.now()))"
   ]
  },
  {
   "cell_type": "code",
   "execution_count": null,
   "metadata": {},
   "outputs": [],
   "source": []
  }
 ],
 "metadata": {
  "kernelspec": {
   "display_name": "Python 3",
   "language": "python",
   "name": "python3"
  },
  "language_info": {
   "codemirror_mode": {
    "name": "ipython",
    "version": 3
   },
   "file_extension": ".py",
   "mimetype": "text/x-python",
   "name": "python",
   "nbconvert_exporter": "python",
   "pygments_lexer": "ipython3",
   "version": "3.7.3"
  }
 },
 "nbformat": 4,
 "nbformat_minor": 2
}
