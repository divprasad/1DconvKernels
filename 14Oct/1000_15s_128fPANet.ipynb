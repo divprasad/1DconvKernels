{
 "cells": [
  {
   "cell_type": "code",
   "execution_count": 1,
   "metadata": {},
   "outputs": [
    {
     "name": "stderr",
     "output_type": "stream",
     "text": [
      "Using TensorFlow backend.\n"
     ]
    }
   ],
   "source": [
    "#Define libraries\n",
    "import tensorflow as tf\n",
    "import keras\n",
    "from keras.models import Sequential\n",
    "from keras.layers import Dense, Dropout, Conv1D, MaxPooling1D, BatchNormalization, Flatten\n",
    "from sklearn.model_selection import KFold\n",
    "from keras.utils import multi_gpu_model\n",
    "#from sklearn.cross_validation import StratifiedKFold\n",
    "from contextlib import redirect_stdout\n",
    "\n",
    "from keras.utils import plot_model\n",
    "from IPython.display import Image\n",
    "from sklearn.metrics import roc_curve\n",
    "from sklearn.metrics import roc_auc_score\n",
    "from sklearn.metrics import auc\n",
    "\n",
    "from sklearn.metrics import accuracy_score\n",
    "from sklearn.metrics import precision_score\n",
    "from sklearn.metrics import recall_score\n",
    "from sklearn.metrics import f1_score\n",
    "from sklearn.metrics import cohen_kappa_score\n",
    "from sklearn.metrics import roc_auc_score\n",
    "from sklearn.metrics import confusion_matrix\n",
    "\n",
    "import os\n",
    "import numpy as np\n",
    "import pandas as pd\n",
    "import matplotlib.pyplot as plt\n",
    "from keras.utils.vis_utils import plot_model\n",
    "from IPython.display import SVG\n",
    "import datetime\n",
    "from keras.utils.vis_utils import model_to_dot\n",
    "from keras.callbacks import EarlyStopping, ModelCheckpoint\n",
    "\n",
    "gpu_options = tf.GPUOptions(allow_growth=True)\n",
    "sess =tf.Session(config=tf.ConfigProto(gpu_options=gpu_options))\n",
    "tf.keras.backend.set_session(sess)\n",
    "\n",
    "NBname='_1000_15s_128fPANet'\n",
    "%matplotlib inline\n",
    "\n",
    "# =======\n",
    "# 25_1s_12fPANet\n",
    "# np.random.seed(100)\n",
    "# kernel_len 25\n",
    "# half (3,6, 9, 12, 15) \n",
    "# decay=0.0000125\n",
    "# dropout 0.25\n",
    "# # # diff b/w 441PANet2 & 10p121PANet2\n",
    "# FC 2x12\n",
    "# patience 10\n",
    "# epochs 25\n",
    "# lr=0.00003125\n",
    "# ======="
   ]
  },
  {
   "cell_type": "code",
   "execution_count": 2,
   "metadata": {},
   "outputs": [],
   "source": [
    "SMALL_SIZE = 10\n",
    "MEDIUM_SIZE = 15\n",
    "BIGGER_SIZE = 18\n",
    "\n",
    "# font = {'family' : 'monospace',\n",
    "#         'weight' : 'bold',\n",
    "#         'size'   : 'larger'}\n",
    "\n",
    "#plt.rc('font', **font)  # pass in the font dict as kwargs\n",
    "plt.rc('font', size=MEDIUM_SIZE,family='normal',weight='normal')          # controls default text sizes\n",
    "plt.rc('axes', titlesize=MEDIUM_SIZE,)     # fontsize of the axes title\n",
    "plt.rc('axes', labelsize=MEDIUM_SIZE,)    # fontsize of the x and y labels\n",
    "plt.rc('xtick', labelsize=MEDIUM_SIZE)    # fontsize of the tick labels\n",
    "plt.rc('ytick', labelsize=MEDIUM_SIZE)    # fontsize of the tick labels\n",
    "plt.rc('legend', fontsize=SMALL_SIZE)    # legend fontsize\n",
    "plt.rc('figure', titlesize=BIGGER_SIZE,titleweight='bold')  # fontsize of the figure title\n",
    "#plt.rc('xtick', labelsize=15) \n",
    "#plt.rc('ytick', labelsize=15) "
   ]
  },
  {
   "cell_type": "code",
   "execution_count": 3,
   "metadata": {},
   "outputs": [
    {
     "name": "stdout",
     "output_type": "stream",
     "text": [
      "2019-10-15 00:24:26.714341\n"
     ]
    }
   ],
   "source": [
    "print(str(datetime.datetime.now()))"
   ]
  },
  {
   "cell_type": "code",
   "execution_count": 4,
   "metadata": {},
   "outputs": [],
   "source": [
    "def plot_perform0(mod, metric, last,ttl):\n",
    "    #plt.figure(figsize=(13,13))\n",
    "    plt.figure(figsize=(11,11))  \n",
    "    for i in range(len(mod)):\n",
    "        name=str(i+1)\n",
    "        val = plt.plot(mod[i].epoch, mod[i].history['val_'+metric],\n",
    "                           '--', label=name.title()+'_Val',linewidth=1.5)        \n",
    "        plt.plot(mod[i].epoch, mod[i].history[metric],\n",
    "                     color=val[0].get_color(), label=name.title()+'_Train',linewidth=1.2)\n",
    "\n",
    "    plt.xlabel('Epochs')\n",
    "    plt.ylabel(metric.replace('_',' ').title())\n",
    "    plt.ylabel(metric.title())\n",
    "    plt.title(ttl)\n",
    "    plt.legend(loc='best')\n",
    "\n",
    "    plt.xlim([0,max(mod[i].epoch)])\n",
    "    figname=metric+last+'.png'\n",
    "    plt.savefig(figname,dpi=500)\n"
   ]
  },
  {
   "cell_type": "code",
   "execution_count": 5,
   "metadata": {},
   "outputs": [],
   "source": [
    "# def plot_perform1(mod, metric, last,ttl):\n",
    "#     plt.figure(figsize=(11,11))  \n",
    "#     name='final'        \n",
    "#     plt.plot(mod.epoch, mod.history[metric], label=name.title()+'_Train',linewidth=1.5)\n",
    "#     plt.xlabel('Epochs')\n",
    "#     plt.ylabel(metric.replace('_',' ').title())\n",
    "#     plt.ylabel(metric.title())\n",
    "#     plt.title(ttl)\n",
    "#     plt.legend(loc='best')\n",
    "\n",
    "#     plt.xlim([0,max(mod.epoch)])\n",
    "#     figname=metric+last+'.png'\n",
    "#     plt.savefig(figname,dpi=500)\n"
   ]
  },
  {
   "cell_type": "code",
   "execution_count": 6,
   "metadata": {
    "scrolled": false
   },
   "outputs": [],
   "source": [
    "def create_model0(shape1):\n",
    "\n",
    "    model0 = Sequential()\n",
    "\n",
    "    model0.add(Conv1D(3, 1000, strides=2,padding='same',activation='relu', batch_input_shape=(None,shape1,1)))\n",
    "    model0.add(BatchNormalization())\n",
    "    model0.add(Conv1D(3, 1000, strides=1,padding='same',activation='relu'))\n",
    "    model0.add(MaxPooling1D(2))\n",
    "    \n",
    "    model0.add(Conv1D(6, 1000, strides=2,padding='same',activation='relu'))\n",
    "    model0.add(BatchNormalization())\n",
    "    model0.add(Conv1D(6, 1000, strides=1,padding='same',activation='relu'))\n",
    "    model0.add(MaxPooling1D(2))\n",
    "    \n",
    "    model0.add(Conv1D(9, 1000, strides=2,padding='same',activation='relu'))\n",
    "    model0.add(BatchNormalization())\n",
    "    model0.add(Conv1D(9, 1000, strides=1,padding='same',activation='relu'))\n",
    "    model0.add(MaxPooling1D(2))\n",
    "\n",
    "    model0.add(Conv1D(12, 1000, strides=2,padding='same',activation='relu'))\n",
    "    model0.add(BatchNormalization())\n",
    "    model0.add(Conv1D(12, 1000, strides=1,padding='same',activation='relu'))\n",
    "    model0.add(MaxPooling1D(2))\n",
    "\n",
    "    model0.add(Conv1D(15, 1000, strides=2,padding='same',activation='relu'))\n",
    "    model0.add(BatchNormalization())\n",
    "    model0.add(Conv1D(15, 1000, strides=1,padding='same',activation='relu'))\n",
    "    model0.add(MaxPooling1D(2))\n",
    "\n",
    "    model0.add(Flatten())\n",
    "    model0.add(Dense(128, activation='relu'))\n",
    "    model0.add(Dense(128, activation='relu'))\n",
    "    #model0.add(Dense(8, activation='relu'))\n",
    "    model0.add(Dropout(0.25))\n",
    "    model0.add(Dense(2, activation='softmax'))\n",
    "\n",
    "    return model0\n",
    "\n"
   ]
  },
  {
   "cell_type": "code",
   "execution_count": 7,
   "metadata": {
    "scrolled": true
   },
   "outputs": [
    {
     "name": "stdout",
     "output_type": "stream",
     "text": [
      "Running Fold 1 / 4\n",
      "Train on 300 samples, validate on 100 samples\n",
      "Epoch 1/25\n",
      " - 135s - loss: 0.7709 - acc: 0.6133 - categorical_crossentropy: 0.7709 - val_loss: 0.6287 - val_acc: 0.7200 - val_categorical_crossentropy: 0.6287\n",
      "Epoch 2/25\n",
      " - 88s - loss: 0.4050 - acc: 0.8467 - categorical_crossentropy: 0.4050 - val_loss: 0.5834 - val_acc: 0.7100 - val_categorical_crossentropy: 0.5834\n",
      "Epoch 3/25\n",
      " - 88s - loss: 0.2632 - acc: 0.9600 - categorical_crossentropy: 0.2632 - val_loss: 0.5908 - val_acc: 0.6200 - val_categorical_crossentropy: 0.5908\n",
      "Epoch 4/25\n",
      " - 88s - loss: 0.1936 - acc: 0.9733 - categorical_crossentropy: 0.1936 - val_loss: 0.5997 - val_acc: 0.6600 - val_categorical_crossentropy: 0.5997\n",
      "Epoch 5/25\n",
      " - 88s - loss: 0.1390 - acc: 0.9933 - categorical_crossentropy: 0.1390 - val_loss: 0.6085 - val_acc: 0.6600 - val_categorical_crossentropy: 0.6085\n",
      "Epoch 6/25\n",
      " - 88s - loss: 0.1126 - acc: 0.9933 - categorical_crossentropy: 0.1126 - val_loss: 0.6428 - val_acc: 0.6800 - val_categorical_crossentropy: 0.6428\n",
      "Epoch 7/25\n",
      " - 88s - loss: 0.0933 - acc: 1.0000 - categorical_crossentropy: 0.0933 - val_loss: 0.6527 - val_acc: 0.6300 - val_categorical_crossentropy: 0.6527\n",
      "Epoch 8/25\n",
      " - 88s - loss: 0.0755 - acc: 0.9967 - categorical_crossentropy: 0.0755 - val_loss: 0.7042 - val_acc: 0.6000 - val_categorical_crossentropy: 0.7042\n",
      "Epoch 9/25\n",
      " - 88s - loss: 0.0707 - acc: 1.0000 - categorical_crossentropy: 0.0707 - val_loss: 0.7000 - val_acc: 0.6000 - val_categorical_crossentropy: 0.7000\n",
      "Epoch 10/25\n",
      " - 88s - loss: 0.0548 - acc: 1.0000 - categorical_crossentropy: 0.0548 - val_loss: 0.7055 - val_acc: 0.6000 - val_categorical_crossentropy: 0.7055\n",
      "Epoch 11/25\n",
      " - 88s - loss: 0.0466 - acc: 1.0000 - categorical_crossentropy: 0.0466 - val_loss: 0.7293 - val_acc: 0.6000 - val_categorical_crossentropy: 0.7293\n",
      "Epoch 12/25\n",
      " - 88s - loss: 0.0448 - acc: 1.0000 - categorical_crossentropy: 0.0448 - val_loss: 0.7487 - val_acc: 0.6000 - val_categorical_crossentropy: 0.7487\n",
      "Running Fold 2 / 4\n",
      "Train on 300 samples, validate on 100 samples\n",
      "Epoch 1/25\n",
      " - 90s - loss: 0.6700 - acc: 0.6067 - categorical_crossentropy: 0.6700 - val_loss: 0.5677 - val_acc: 0.7700 - val_categorical_crossentropy: 0.5677\n",
      "Epoch 2/25\n",
      " - 88s - loss: 0.3586 - acc: 0.8833 - categorical_crossentropy: 0.3586 - val_loss: 0.5169 - val_acc: 0.8200 - val_categorical_crossentropy: 0.5169\n",
      "Epoch 3/25\n",
      " - 88s - loss: 0.2206 - acc: 0.9567 - categorical_crossentropy: 0.2206 - val_loss: 0.5306 - val_acc: 0.7700 - val_categorical_crossentropy: 0.5306\n",
      "Epoch 4/25\n",
      " - 88s - loss: 0.1623 - acc: 0.9833 - categorical_crossentropy: 0.1623 - val_loss: 0.5192 - val_acc: 0.7700 - val_categorical_crossentropy: 0.5192\n",
      "Epoch 5/25\n",
      " - 88s - loss: 0.1239 - acc: 1.0000 - categorical_crossentropy: 0.1239 - val_loss: 0.5552 - val_acc: 0.6800 - val_categorical_crossentropy: 0.5552\n",
      "Epoch 6/25\n",
      " - 88s - loss: 0.0951 - acc: 0.9967 - categorical_crossentropy: 0.0951 - val_loss: 0.5483 - val_acc: 0.6800 - val_categorical_crossentropy: 0.5483\n",
      "Epoch 7/25\n",
      " - 88s - loss: 0.0759 - acc: 0.9933 - categorical_crossentropy: 0.0759 - val_loss: 0.5547 - val_acc: 0.6800 - val_categorical_crossentropy: 0.5547\n",
      "Epoch 8/25\n",
      " - 88s - loss: 0.0648 - acc: 0.9967 - categorical_crossentropy: 0.0648 - val_loss: 0.5922 - val_acc: 0.6300 - val_categorical_crossentropy: 0.5922\n",
      "Epoch 9/25\n",
      " - 88s - loss: 0.0609 - acc: 0.9967 - categorical_crossentropy: 0.0609 - val_loss: 0.5849 - val_acc: 0.6300 - val_categorical_crossentropy: 0.5849\n",
      "Epoch 10/25\n",
      " - 88s - loss: 0.0461 - acc: 1.0000 - categorical_crossentropy: 0.0461 - val_loss: 0.6058 - val_acc: 0.6800 - val_categorical_crossentropy: 0.6058\n",
      "Epoch 11/25\n",
      " - 88s - loss: 0.0425 - acc: 1.0000 - categorical_crossentropy: 0.0425 - val_loss: 0.5906 - val_acc: 0.6800 - val_categorical_crossentropy: 0.5906\n",
      "Epoch 12/25\n",
      " - 88s - loss: 0.0380 - acc: 1.0000 - categorical_crossentropy: 0.0380 - val_loss: 0.6095 - val_acc: 0.6800 - val_categorical_crossentropy: 0.6095\n",
      "Running Fold 3 / 4\n",
      "Train on 300 samples, validate on 100 samples\n",
      "Epoch 1/25\n",
      " - 90s - loss: 0.7521 - acc: 0.5600 - categorical_crossentropy: 0.7521 - val_loss: 0.5866 - val_acc: 0.7100 - val_categorical_crossentropy: 0.5866\n",
      "Epoch 2/25\n",
      " - 88s - loss: 0.4085 - acc: 0.8667 - categorical_crossentropy: 0.4085 - val_loss: 0.5433 - val_acc: 0.7500 - val_categorical_crossentropy: 0.5433\n",
      "Epoch 3/25\n",
      " - 88s - loss: 0.2953 - acc: 0.9167 - categorical_crossentropy: 0.2953 - val_loss: 0.5314 - val_acc: 0.8100 - val_categorical_crossentropy: 0.5314\n",
      "Epoch 4/25\n",
      " - 88s - loss: 0.2303 - acc: 0.9633 - categorical_crossentropy: 0.2303 - val_loss: 0.5547 - val_acc: 0.7900 - val_categorical_crossentropy: 0.5547\n",
      "Epoch 5/25\n",
      " - 88s - loss: 0.1716 - acc: 0.9733 - categorical_crossentropy: 0.1716 - val_loss: 0.5567 - val_acc: 0.8000 - val_categorical_crossentropy: 0.5567\n",
      "Epoch 6/25\n",
      " - 88s - loss: 0.1237 - acc: 0.9933 - categorical_crossentropy: 0.1237 - val_loss: 0.5680 - val_acc: 0.8000 - val_categorical_crossentropy: 0.5680\n",
      "Epoch 7/25\n",
      " - 88s - loss: 0.0980 - acc: 0.9967 - categorical_crossentropy: 0.0980 - val_loss: 0.5914 - val_acc: 0.7500 - val_categorical_crossentropy: 0.5914\n",
      "Epoch 8/25\n",
      " - 88s - loss: 0.0973 - acc: 0.9900 - categorical_crossentropy: 0.0973 - val_loss: 0.5839 - val_acc: 0.7500 - val_categorical_crossentropy: 0.5839\n",
      "Epoch 9/25\n",
      " - 88s - loss: 0.0820 - acc: 0.9967 - categorical_crossentropy: 0.0820 - val_loss: 0.6129 - val_acc: 0.7500 - val_categorical_crossentropy: 0.6129\n",
      "Epoch 10/25\n",
      " - 88s - loss: 0.0702 - acc: 0.9933 - categorical_crossentropy: 0.0702 - val_loss: 0.6169 - val_acc: 0.7500 - val_categorical_crossentropy: 0.6169\n",
      "Epoch 11/25\n",
      " - 88s - loss: 0.0609 - acc: 1.0000 - categorical_crossentropy: 0.0609 - val_loss: 0.6215 - val_acc: 0.7500 - val_categorical_crossentropy: 0.6215\n",
      "Epoch 12/25\n",
      " - 88s - loss: 0.0531 - acc: 1.0000 - categorical_crossentropy: 0.0531 - val_loss: 0.6418 - val_acc: 0.7500 - val_categorical_crossentropy: 0.6418\n",
      "Epoch 13/25\n",
      " - 88s - loss: 0.0437 - acc: 1.0000 - categorical_crossentropy: 0.0437 - val_loss: 0.6650 - val_acc: 0.7000 - val_categorical_crossentropy: 0.6650\n",
      "Running Fold 4 / 4\n",
      "Train on 300 samples, validate on 100 samples\n",
      "Epoch 1/25\n",
      " - 91s - loss: 0.7349 - acc: 0.5633 - categorical_crossentropy: 0.7349 - val_loss: 0.7870 - val_acc: 0.5300 - val_categorical_crossentropy: 0.7870\n",
      "Epoch 2/25\n",
      " - 88s - loss: 0.3442 - acc: 0.8900 - categorical_crossentropy: 0.3442 - val_loss: 0.7978 - val_acc: 0.5800 - val_categorical_crossentropy: 0.7978\n",
      "Epoch 3/25\n",
      " - 88s - loss: 0.2153 - acc: 0.9800 - categorical_crossentropy: 0.2153 - val_loss: 0.8493 - val_acc: 0.6200 - val_categorical_crossentropy: 0.8493\n",
      "Epoch 4/25\n",
      " - 88s - loss: 0.1586 - acc: 0.9800 - categorical_crossentropy: 0.1586 - val_loss: 0.8749 - val_acc: 0.6200 - val_categorical_crossentropy: 0.8749\n",
      "Epoch 5/25\n",
      " - 88s - loss: 0.1224 - acc: 0.9900 - categorical_crossentropy: 0.1224 - val_loss: 0.9135 - val_acc: 0.6200 - val_categorical_crossentropy: 0.9135\n",
      "Epoch 6/25\n",
      " - 88s - loss: 0.0947 - acc: 0.9900 - categorical_crossentropy: 0.0947 - val_loss: 0.9299 - val_acc: 0.6200 - val_categorical_crossentropy: 0.9299\n",
      "Epoch 7/25\n",
      " - 88s - loss: 0.0782 - acc: 0.9967 - categorical_crossentropy: 0.0782 - val_loss: 0.9585 - val_acc: 0.6200 - val_categorical_crossentropy: 0.9585\n",
      "Epoch 8/25\n",
      " - 88s - loss: 0.0619 - acc: 1.0000 - categorical_crossentropy: 0.0619 - val_loss: 0.9826 - val_acc: 0.6200 - val_categorical_crossentropy: 0.9826\n",
      "Epoch 9/25\n",
      " - 88s - loss: 0.0639 - acc: 0.9967 - categorical_crossentropy: 0.0639 - val_loss: 0.9977 - val_acc: 0.6300 - val_categorical_crossentropy: 0.9977\n",
      "Epoch 10/25\n",
      " - 88s - loss: 0.0480 - acc: 0.9967 - categorical_crossentropy: 0.0480 - val_loss: 1.0423 - val_acc: 0.5900 - val_categorical_crossentropy: 1.0423\n",
      "Epoch 11/25\n",
      " - 88s - loss: 0.0443 - acc: 1.0000 - categorical_crossentropy: 0.0443 - val_loss: 1.0671 - val_acc: 0.5900 - val_categorical_crossentropy: 1.0671\n",
      "CPU times: user 3h 2min 32s, sys: 29min 27s, total: 3h 31min 59s\n",
      "Wall time: 1h 12min\n"
     ]
    }
   ],
   "source": [
    "%%time\n",
    "\n",
    "batch_size = 10\n",
    "N_epochs = 25\n",
    "N_folds=4\n",
    "np.random.seed(100)\n",
    "kf = KFold(n_splits=N_folds, shuffle=False)\n",
    "\n",
    "# fmd='train_x.npy'\n",
    "# fld='train_y.npy'\n",
    "# data=np.load(os.path.abspath(fmd))\n",
    "# dlabels=np.load(os.path.abspath(fld))\n",
    "\n",
    "\n",
    "rm='res_x.npy'\n",
    "rl='res_y.npy'\n",
    "rdata=np.load(os.path.abspath(rm))\n",
    "rlabels=np.load(os.path.abspath(rl))\n",
    "\n",
    "sm='sen_x.npy'\n",
    "sl='sen_y.npy'\n",
    "sdata=np.load(os.path.abspath(sm))\n",
    "slabels=np.load(os.path.abspath(sl))\n",
    "\n",
    "fmtim='testim_x.npy'\n",
    "fltim='testim_y.npy'\n",
    "testim=np.load(os.path.abspath(fmtim))\n",
    "tlabelsim=np.load(os.path.abspath(fltim))\n",
    "\n",
    "fmtb='testb_x.npy'\n",
    "fltb='testb_y.npy'\n",
    "testb=np.load(os.path.abspath(fmtb))\n",
    "tlabelsb=np.load(os.path.abspath(fltb))\n",
    "\n",
    "\n",
    "\n",
    "# =================\n",
    "# Do once!\n",
    "# =================\n",
    "sen_batch = np.random.RandomState(seed=45).permutation(sdata.shape[0])\n",
    "bins = np.linspace(0, 200, 41)\n",
    "digitized = np.digitize(sen_batch, bins,right=False)\n",
    "# ================\n",
    "\n",
    "\n",
    "# # ===============================\n",
    "# # # FINAL TRAIN\n",
    "# # ===============================\n",
    "# train_idx_k=np.random.permutation(rdata.shape[0])\n",
    "# s_x=sdata[np.isin(digitized,train_idx_k+1)]\n",
    "# s_y=slabels[np.isin(digitized,train_idx_k+1)]\n",
    "# r_x=np.concatenate((rdata[train_idx_k],rdata[train_idx_k],rdata[train_idx_k],rdata[train_idx_k],rdata[train_idx_k]))\n",
    "# r_y=np.concatenate((rlabels[train_idx_k],rlabels[train_idx_k],rlabels[train_idx_k],rlabels[train_idx_k],rlabels[train_idx_k]))\n",
    "\n",
    "# f_train_x, f_train_y = np.concatenate((s_x,r_x)), np.concatenate((s_y,r_y)) \n",
    "# train_shuf_idx = np.random.permutation(f_train_x.shape[0])\n",
    "# x_train, y_train = f_train_x[train_shuf_idx], f_train_y[train_shuf_idx]\n",
    "\n",
    "\n",
    "# model0 = create_model0(rdata.shape[1])\n",
    "# model0.compile(optimizer=keras.optimizers.Adamax(lr=0.00003125, beta_1=0.9, beta_2=0.999, epsilon=None, decay=0.0000125),\n",
    "#                              loss='categorical_crossentropy',\n",
    "#                              metrics=['accuracy','categorical_crossentropy'])\n",
    "# fmodel=model0.fit(x_train, y_train, epochs=N_epochs, batch_size=batch_size, verbose=2)\n",
    "    \n",
    "# =======================\n",
    "# # ONLY FOR CROSS-VAL\n",
    "# =======================\n",
    "\n",
    "i=0\n",
    "adamax=[]\n",
    "callbacks = [EarlyStopping(monitor='val_loss', patience=10),\n",
    "             ModelCheckpoint(filepath='best_model'+NBname+'.h5', monitor='val_loss', save_best_only=True)]\n",
    "\n",
    "for train_idx_k, val_idx_k in kf.split(rdata):\n",
    "    print (\"Running Fold\", i+1, \"/\", N_folds)\n",
    "    \n",
    "    # ===============================\n",
    "    # select train\n",
    "    # ===============================\n",
    "    \n",
    "    s_train_x=sdata[np.isin(digitized,train_idx_k+1)]\n",
    "    s_train_y=slabels[np.isin(digitized,train_idx_k+1)]\n",
    "    r_train_x=np.concatenate((rdata[train_idx_k],rdata[train_idx_k],rdata[train_idx_k],rdata[train_idx_k],rdata[train_idx_k]))\n",
    "    r_train_y=np.concatenate((rlabels[train_idx_k],rlabels[train_idx_k],rlabels[train_idx_k],rlabels[train_idx_k],rlabels[train_idx_k]))\n",
    "\n",
    "    # ===============================\n",
    "    # select val\n",
    "    # ===============================\n",
    "    \n",
    "    s_val_x=sdata[np.isin(digitized,val_idx_k+1)]\n",
    "    s_val_y=slabels[np.isin(digitized,val_idx_k+1)]\n",
    "    \n",
    "    r_val_x=np.concatenate((rdata[val_idx_k],rdata[val_idx_k],rdata[val_idx_k],rdata[val_idx_k],rdata[val_idx_k]))\n",
    "    r_val_y=np.concatenate((rlabels[val_idx_k],rlabels[val_idx_k],rlabels[val_idx_k],rlabels[val_idx_k],rlabels[val_idx_k]))\n",
    "\n",
    "    # ===============================\n",
    "    # concatenate F_train/val_x/y\n",
    "    # ===============================\n",
    "\n",
    "    f_train_x, f_train_y = np.concatenate((s_train_x,r_train_x)), np.concatenate((s_train_y,r_train_y)) \n",
    "#     train_shuf_idx = np.random.permutation(f_train_x.shape[0])\n",
    "#     F_train_x, F_train_y = f_train_x[train_shuf_idx], f_train_y[train_shuf_idx]\n",
    "\n",
    "    f_val_x, f_val_y = np.concatenate((s_val_x,r_val_x)), np.concatenate((s_val_y,r_val_y))\n",
    "#     val_shuf_idx = np.random.permutation(f_val_x.shape[0])\n",
    "#     F_val_x, F_val_y = f_val_x[val_shuf_idx], f_val_y[val_shuf_idx]\n",
    "\n",
    "    # ===============================\n",
    "    # shuffle just because we can?\n",
    "    # ===============================\n",
    "    \n",
    "    train_shuf_idx = np.random.permutation(f_train_x.shape[0])\n",
    "    x_train_CV, y_train_CV = f_train_x[train_shuf_idx], f_train_y[train_shuf_idx]\n",
    "    \n",
    "    val_shuf_idx = np.random.permutation(f_val_x.shape[0])\n",
    "    x_val_CV, y_val_CV = f_val_x[val_shuf_idx], f_val_y[val_shuf_idx] \n",
    "\n",
    "    # ===============================\n",
    "    # clear and create empty model \n",
    "    # ===============================\n",
    "    \n",
    "    model0 = None # Clearing the NN.    \n",
    "    model0 = create_model0(rdata.shape[1])\n",
    "    \n",
    "#    x_train_CV, y_train_CV, = data[train_idx_k], dlabels[train_idx_k]\n",
    "#    x_val_CV, y_val_CV, = data[val_idx_k], dlabels[val_idx_k]\n",
    "\n",
    "#     parallel_model = None    \n",
    "#     parallel_model = multi_gpu_model(model0, gpus=2)\n",
    "#     #default\n",
    "#     #parallel_model.compile(optimizer=keras.optimizers.Adamax(lr=0.002, beta_1=0.9, beta_2=0.999, epsilon=None, decay=0.0),\n",
    "#     parallel_model.compile(optimizer=keras.optimizers.Adamax(lr=0.004, beta_1=0.9, beta_2=0.999, epsilon=None, decay=0.005),\n",
    "#                              loss='categorical_crossentropy',\n",
    "#                              metrics=['accuracy','categorical_crossentropy'])\n",
    "#     model0_adamax = parallel_model.fit(x_train_CV, y_train_CV,\n",
    "#                                           epochs=N_epochs,\n",
    "#                                           batch_size=batch_size, \n",
    "#                                           validation_data=(x_val_CV,y_val_CV),\n",
    "#                                           verbose=1)\n",
    "\n",
    "    #default\n",
    "    #parallel_model.compile(optimizer=keras.optimizers.Adamax(lr=0.002, beta_1=0.9, beta_2=0.999, epsilon=None, decay=0.0),\n",
    "    model0.compile(optimizer=keras.optimizers.Adamax(lr=0.00000625, beta_1=0.9, beta_2=0.999, epsilon=None, decay=0.0000125),\n",
    "                             loss='categorical_crossentropy',\n",
    "                             metrics=['accuracy','categorical_crossentropy'])\n",
    "    model0_adamax = model0.fit(x_train_CV, y_train_CV,\n",
    "                                          epochs=N_epochs,\n",
    "                                          batch_size=batch_size, \n",
    "                                          validation_data=(x_val_CV,y_val_CV),\n",
    "                                          verbose=2,callbacks=callbacks)\n",
    "\n",
    "    adamax.append(model0_adamax)           \n",
    "    i=i+1"
   ]
  },
  {
   "cell_type": "code",
   "execution_count": 8,
   "metadata": {},
   "outputs": [],
   "source": [
    "# from keras.models import load_model\n",
    "# fmodel= load_model('final_12fPANet.h5')\n"
   ]
  },
  {
   "cell_type": "code",
   "execution_count": 9,
   "metadata": {},
   "outputs": [
    {
     "name": "stderr",
     "output_type": "stream",
     "text": [
      "/home/uu_bio_amrdl/dprasad/miniconda3/envs/TFgpu/lib/python3.6/site-packages/matplotlib/font_manager.py:1241: UserWarning: findfont: Font family ['normal'] not found. Falling back to DejaVu Sans.\n",
      "  (prop.get_family(), self.defaultFamily[fontext]))\n"
     ]
    },
    {
     "data": {
      "image/png": "[encoded data removed]",
      "text/plain": [
       "<Figure size 792x792 with 1 Axes>"
      ]
     },
     "metadata": {
      "needs_background": "light"
     },
     "output_type": "display_data"
    }
   ],
   "source": [
    "# commented, works after finishing training\n",
    "plot_perform0(adamax,'acc',NBname,'CV:Performance-I')"
   ]
  },
  {
   "cell_type": "code",
   "execution_count": 10,
   "metadata": {},
   "outputs": [
    {
     "data": {
      "image/png": "[encoded data removed]",
      "text/plain": [
       "<Figure size 792x792 with 1 Axes>"
      ]
     },
     "metadata": {
      "needs_background": "light"
     },
     "output_type": "display_data"
    }
   ],
   "source": [
    "# commented, works after finishing training\n",
    "plot_perform0(adamax,'loss',NBname,'CV:Performance-II')"
   ]
  },
  {
   "cell_type": "code",
   "execution_count": 11,
   "metadata": {},
   "outputs": [],
   "source": [
    "with open('summary'+NBname+'.txt', 'w') as f:\n",
    "    with redirect_stdout(f):\n",
    "        model0.summary()"
   ]
  },
  {
   "cell_type": "code",
   "execution_count": 12,
   "metadata": {
    "scrolled": true
   },
   "outputs": [
    {
     "name": "stdout",
     "output_type": "stream",
     "text": [
      "_________________________________________________________________\n",
      "Layer (type)                 Output Shape              Param #   \n",
      "=================================================================\n",
      "conv1d_31 (Conv1D)           (None, 576006, 3)         3003      \n",
      "_________________________________________________________________\n",
      "batch_normalization_16 (Batc (None, 576006, 3)         12        \n",
      "_________________________________________________________________\n",
      "conv1d_32 (Conv1D)           (None, 576006, 3)         9003      \n",
      "_________________________________________________________________\n",
      "max_pooling1d_16 (MaxPooling (None, 288003, 3)         0         \n",
      "_________________________________________________________________\n",
      "conv1d_33 (Conv1D)           (None, 144002, 6)         18006     \n",
      "_________________________________________________________________\n",
      "batch_normalization_17 (Batc (None, 144002, 6)         24        \n",
      "_________________________________________________________________\n",
      "conv1d_34 (Conv1D)           (None, 144002, 6)         36006     \n",
      "_________________________________________________________________\n",
      "max_pooling1d_17 (MaxPooling (None, 72001, 6)          0         \n",
      "_________________________________________________________________\n",
      "conv1d_35 (Conv1D)           (None, 36001, 9)          54009     \n",
      "_________________________________________________________________\n",
      "batch_normalization_18 (Batc (None, 36001, 9)          36        \n",
      "_________________________________________________________________\n",
      "conv1d_36 (Conv1D)           (None, 36001, 9)          81009     \n",
      "_________________________________________________________________\n",
      "max_pooling1d_18 (MaxPooling (None, 18000, 9)          0         \n",
      "_________________________________________________________________\n",
      "conv1d_37 (Conv1D)           (None, 9000, 12)          108012    \n",
      "_________________________________________________________________\n",
      "batch_normalization_19 (Batc (None, 9000, 12)          48        \n",
      "_________________________________________________________________\n",
      "conv1d_38 (Conv1D)           (None, 9000, 12)          144012    \n",
      "_________________________________________________________________\n",
      "max_pooling1d_19 (MaxPooling (None, 4500, 12)          0         \n",
      "_________________________________________________________________\n",
      "conv1d_39 (Conv1D)           (None, 2250, 15)          180015    \n",
      "_________________________________________________________________\n",
      "batch_normalization_20 (Batc (None, 2250, 15)          60        \n",
      "_________________________________________________________________\n",
      "conv1d_40 (Conv1D)           (None, 2250, 15)          225015    \n",
      "_________________________________________________________________\n",
      "max_pooling1d_20 (MaxPooling (None, 1125, 15)          0         \n",
      "_________________________________________________________________\n",
      "flatten_4 (Flatten)          (None, 16875)             0         \n",
      "_________________________________________________________________\n",
      "dense_10 (Dense)             (None, 128)               2160128   \n",
      "_________________________________________________________________\n",
      "dense_11 (Dense)             (None, 128)               16512     \n",
      "_________________________________________________________________\n",
      "dropout_4 (Dropout)          (None, 128)               0         \n",
      "_________________________________________________________________\n",
      "dense_12 (Dense)             (None, 2)                 258       \n",
      "=================================================================\n",
      "Total params: 3,035,168\n",
      "Trainable params: 3,035,078\n",
      "Non-trainable params: 90\n",
      "_________________________________________________________________\n"
     ]
    }
   ],
   "source": [
    "model0.summary()"
   ]
  },
  {
   "cell_type": "code",
   "execution_count": 13,
   "metadata": {},
   "outputs": [
    {
     "name": "stdout",
     "output_type": "stream",
     "text": [
      "2019-10-15 01:36:31.450444\n"
     ]
    }
   ],
   "source": [
    "print(str(datetime.datetime.now()))"
   ]
  },
  {
   "cell_type": "code",
   "execution_count": 14,
   "metadata": {},
   "outputs": [],
   "source": [
    "# # ==========================================================================\n",
    "# # # DO NOT UNCOMMENT UNTIL THE END; DECLARES FUNCTION FOR AN UNBIASED TEST\n",
    "# # ==========================================================================\n",
    "\n",
    "# def plot_auc(aucies,fprs,tprs, last):\n",
    "#   #plt.figure(figsize=(13,13))\n",
    "#     plt.figure(figsize=(11,11))\n",
    "#     plt.plot([0, 1], [0, 1], 'k--')  \n",
    "#     for i in range(len(aucies)):\n",
    "#         st='CV_'+str(i+1)+' '\n",
    "#         if i==0:\n",
    "#             st='Balanced'\n",
    "#         else:\n",
    "#             st='Imbalanced'\n",
    "#         plt.plot(fprs[i], tprs[i], label='{} (AUC= {:.3f})'.format(st,aucies[i]),linewidth=1.5)\n",
    "\n",
    "#         plt.xlabel('False positive rate')\n",
    "#         plt.ylabel('True positive rate')\n",
    "#         plt.title('ROC curve: PANet')\n",
    "#         plt.legend(loc='best')\n",
    "    \n",
    "#         figname='ROC'+last+'.png'\n",
    "#         plt.savefig(figname,dpi=500)\n"
   ]
  },
  {
   "cell_type": "code",
   "execution_count": 15,
   "metadata": {},
   "outputs": [],
   "source": [
    "# # ==========================================================================\n",
    "# # # THIS IS THE TEST; DO NOT UNCOMMENT UNTIL THE END\n",
    "# # ==========================================================================\n",
    "    \n",
    "# fpr_x=[]\n",
    "# tpr_x=[]\n",
    "# thresholds_x=[]\n",
    "# auc_x=[]\n",
    "\n",
    "# pre_S=[]\n",
    "# rec_S=[]\n",
    "# f1_S=[]\n",
    "# kap_S=[]\n",
    "# acc_S=[]\n",
    "# mat_S=[]\n"
   ]
  },
  {
   "cell_type": "markdown",
   "metadata": {},
   "source": [
    "# BALANCED TESTING"
   ]
  },
  {
   "cell_type": "code",
   "execution_count": 16,
   "metadata": {},
   "outputs": [],
   "source": [
    "# NBname='_F-12fPANetb'\n",
    "# y_predb = fmodel.model.predict(testb)#.ravel()\n",
    "# fpr_0, tpr_0, thresholds_0 = roc_curve(tlabelsb[:,1], y_predb[:,1])\n",
    "# fpr_x.append(fpr_0)\n",
    "# tpr_x.append(tpr_0)\n",
    "# thresholds_x.append(thresholds_0)    \n",
    "# auc_x.append(auc(fpr_0, tpr_0))     \n",
    "    \n",
    "# # predict probabilities for testb set\n",
    "# yhat_probs = fmodel.model.predict(testb, verbose=0)\n",
    "# # predict crisp classes for testb set\n",
    "# yhat_classes = fmodel.model.predict_classes(testb, verbose=0)\n",
    "# # reduce to 1d array\n",
    "# testby=tlabelsb[:,1]\n",
    "\n",
    "# # yhat_probs = yhat_probs[:, 1]\n",
    "# # #yhat_classes = yhat_classes[:, 0]\n",
    "\n",
    "# # accuracy: (tp + tn) / (p + n)\n",
    "# acc_S.append(accuracy_score(testby, yhat_classes))\n",
    "# #print('Accuracy: %f' % accuracy_score(testby, yhat_classes))\n",
    "\n",
    "# #precision tp / (tp + fp)\n",
    "# pre_S.append(precision_score(testby, yhat_classes))\n",
    "# #print('Precision: %f' % precision_score(testby, yhat_classes))\n",
    "\n",
    "# #recall: tp / (tp + fn)\n",
    "# rec_S.append(recall_score(testby, yhat_classes))\n",
    "# #print('Recall: %f' % recall_score(testby, yhat_classes))\n",
    "\n",
    "# # f1: 2 tp / (2 tp + fp + fn)\n",
    "# f1_S.append(f1_score(testby, yhat_classes))\n",
    "# #print('F1 score: %f' % f1_score(testby, yhat_classes))\n",
    "\n",
    "# # kappa\n",
    "# kap_S.append(cohen_kappa_score(testby, yhat_classes))\n",
    "# #print('Cohens kappa: %f' % cohen_kappa_score(testby, yhat_classes))\n",
    "\n",
    "# # confusion matrix\n",
    "# mat_S.append(confusion_matrix(testby, yhat_classes))\n",
    "# #print(confusion_matrix(testby, yhat_classes))\n",
    "\n",
    "# with open('perform'+NBname+'.txt', \"w\") as f:\n",
    "#     f.writelines(\"AUC \\t Accuracy \\t Precision \\t Recall \\t F1 \\t Kappa\\n\")\n",
    "#     f.writelines(map(\"{}\\t{}\\t{}\\t{}\\t{}\\t{}\\n\".format, auc_x, acc_S, pre_S, rec_S, f1_S, kap_S))\n",
    "#     for x in range(len(fpr_x)):\n",
    "#         f.writelines(map(\"{}\\n\".format, mat_S[x]))\n",
    "#         f.writelines(map(\"{}\\t{}\\t{}\\n\".format, fpr_x[x], tpr_x[x], thresholds_x[x]))\n",
    "    \n",
    "# # ==========================================================================\n",
    "# # # THIS IS THE BALANCED testb; DO NOT UNCOMMENT UNTIL THE END\n",
    "# # ==========================================================================\n",
    "\n",
    "# plot_auc(auc_x,fpr_x,tpr_x,NBname)"
   ]
  },
  {
   "cell_type": "markdown",
   "metadata": {},
   "source": [
    "## to see which samples were correctly classified ..."
   ]
  },
  {
   "cell_type": "code",
   "execution_count": 17,
   "metadata": {},
   "outputs": [],
   "source": [
    "# yhat_probs[yhat_probs[:,1]>=0.5,1]"
   ]
  },
  {
   "cell_type": "code",
   "execution_count": 18,
   "metadata": {},
   "outputs": [],
   "source": [
    "# yhat_probs[:,1]>=0.5"
   ]
  },
  {
   "cell_type": "code",
   "execution_count": 19,
   "metadata": {
    "scrolled": true
   },
   "outputs": [],
   "source": [
    "# yhat_classes"
   ]
  },
  {
   "cell_type": "code",
   "execution_count": 20,
   "metadata": {
    "scrolled": true
   },
   "outputs": [],
   "source": [
    "# testby"
   ]
  },
  {
   "cell_type": "code",
   "execution_count": null,
   "metadata": {},
   "outputs": [],
   "source": []
  },
  {
   "cell_type": "markdown",
   "metadata": {},
   "source": [
    "# IMBALANCED TESTING"
   ]
  },
  {
   "cell_type": "code",
   "execution_count": 21,
   "metadata": {},
   "outputs": [],
   "source": [
    "# NBname='_F-12fPANetim'\n",
    "# y_pred = fmodel.model.predict(testim)#.ravel()\n",
    "# fpr_0, tpr_0, thresholds_0 = roc_curve(tlabelsim[:,1], y_pred[:,1])\n",
    "# fpr_x.append(fpr_0)\n",
    "# tpr_x.append(tpr_0)\n",
    "# thresholds_x.append(thresholds_0)    \n",
    "# auc_x.append(auc(fpr_0, tpr_0))     \n",
    "    \n",
    "# # predict probabilities for testim set\n",
    "# yhat_probs = fmodel.model.predict(testim, verbose=0)\n",
    "# # predict crisp classes for testim set\n",
    "# yhat_classes = fmodel.model.predict_classes(testim, verbose=0)\n",
    "# # reduce to 1d array\n",
    "# testimy=tlabelsim[:,1]\n",
    "\n",
    "# #yhat_probs = yhat_probs[:, 0]\n",
    "# #yhat_classes = yhat_classes[:, 0]\n",
    "\n",
    "# # accuracy: (tp + tn) / (p + n)\n",
    "# acc_S.append(accuracy_score(testimy, yhat_classes))\n",
    "# #print('Accuracy: %f' % accuracy_score(testimy, yhat_classes))\n",
    "\n",
    "# #precision tp / (tp + fp)\n",
    "# pre_S.append(precision_score(testimy, yhat_classes))\n",
    "# #print('Precision: %f' % precision_score(testimy, yhat_classes))\n",
    "\n",
    "# #recall: tp / (tp + fn)\n",
    "# rec_S.append(recall_score(testimy, yhat_classes))\n",
    "# #print('Recall: %f' % recall_score(testimy, yhat_classes))\n",
    "\n",
    "# # f1: 2 tp / (2 tp + fp + fn)\n",
    "# f1_S.append(f1_score(testimy, yhat_classes))\n",
    "# #print('F1 score: %f' % f1_score(testimy, yhat_classes))\n",
    "\n",
    "# # kappa\n",
    "# kap_S.append(cohen_kappa_score(testimy, yhat_classes))\n",
    "# #print('Cohens kappa: %f' % cohen_kappa_score(testimy, yhat_classes))\n",
    "\n",
    "# # confusion matrix\n",
    "# mat_S.append(confusion_matrix(testimy, yhat_classes))\n",
    "# #print(confusion_matrix(testimy, yhat_classes))\n",
    "\n",
    "# with open('perform'+NBname+'.txt', \"w\") as f:\n",
    "#     f.writelines(\"##THE TWO LINES ARE FOR BALANCED AND IMBALALANCED TEST\\n\")\n",
    "#     f.writelines(\"#AUC \\t Accuracy \\t Precision \\t Recall \\t F1 \\t Kappa\\n\")\n",
    "#     f.writelines(map(\"{}\\t{}\\t{}\\t{}\\t{}\\t{}\\n\".format, auc_x, acc_S, pre_S, rec_S, f1_S, kap_S))\n",
    "#     f.writelines(\"#TRUE_SENSITIVE \\t TRUE_RESISTANT\\n\")\n",
    "#     for x in range(len(fpr_x)):\n",
    "#         f.writelines(map(\"{}\\n\".format, mat_S[x]))\n",
    "#         #f.writelines(map(\"{}\\t{}\\t{}\\n\".format, fpr_x[x], tpr_x[x], thresholds_x[x]))\n",
    "#     f.writelines(\"#FPR \\t TPR \\t THRESHOLDs\\n\")\n",
    "#     for x in range(len(fpr_x)):\n",
    "#         #f.writelines(map(\"{}\\n\".format, mat_S[x]))\n",
    "#         f.writelines(map(\"{}\\t{}\\t{}\\n\".format, fpr_x[x], tpr_x[x], thresholds_x[x]))\n",
    "#         f.writelines(\"#NEXT\\n\")\n",
    "# # ==========================================================================\n",
    "# # # THIS IS THE UNBIASED testim; DO NOT UNCOMMENT UNTIL THE END\n",
    "# # ==========================================================================\n",
    "\n",
    "# plot_auc(auc_x,fpr_x,tpr_x,NBname)"
   ]
  },
  {
   "cell_type": "markdown",
   "metadata": {},
   "source": [
    "## to see which samples were correctly classified ..."
   ]
  },
  {
   "cell_type": "code",
   "execution_count": 22,
   "metadata": {},
   "outputs": [],
   "source": [
    "# yhat_probs[yhat_probs[:,1]>=0.5,1]"
   ]
  },
  {
   "cell_type": "code",
   "execution_count": 23,
   "metadata": {},
   "outputs": [],
   "source": [
    "# yhat_probs[:,1]>=0.5"
   ]
  },
  {
   "cell_type": "code",
   "execution_count": 24,
   "metadata": {},
   "outputs": [],
   "source": [
    "# yhat_classes"
   ]
  },
  {
   "cell_type": "code",
   "execution_count": 25,
   "metadata": {},
   "outputs": [],
   "source": [
    "# testimy"
   ]
  },
  {
   "cell_type": "markdown",
   "metadata": {},
   "source": [
    "# MISCELLANEOUS"
   ]
  },
  {
   "cell_type": "code",
   "execution_count": 26,
   "metadata": {},
   "outputs": [],
   "source": [
    "# mat_S #confusion matrix"
   ]
  },
  {
   "cell_type": "code",
   "execution_count": 27,
   "metadata": {},
   "outputs": [],
   "source": [
    "# auc_x #AUC balanced, imabalanced"
   ]
  },
  {
   "cell_type": "code",
   "execution_count": null,
   "metadata": {},
   "outputs": [],
   "source": []
  },
  {
   "cell_type": "code",
   "execution_count": 28,
   "metadata": {},
   "outputs": [],
   "source": [
    "# produces extremely tall png, that doesn't really fit into a screen\n",
    "# plot_model(model0, to_file='model'+NBname+'.png', show_shapes=True,show_layer_names=False)"
   ]
  },
  {
   "cell_type": "code",
   "execution_count": 29,
   "metadata": {},
   "outputs": [],
   "source": [
    "# produces SVG object. dont uncomment until desperate\n",
    "# SVG(model_to_dot(model0, show_shapes=True,show_layer_names=False).create(prog='dot', format='svg'))"
   ]
  },
  {
   "cell_type": "markdown",
   "metadata": {},
   "source": [
    "# END OF TESTING"
   ]
  },
  {
   "cell_type": "code",
   "execution_count": 30,
   "metadata": {},
   "outputs": [
    {
     "name": "stdout",
     "output_type": "stream",
     "text": [
      "2019-10-15 01:36:31.708207\n"
     ]
    }
   ],
   "source": [
    "print(str(datetime.datetime.now()))"
   ]
  },
  {
   "cell_type": "code",
   "execution_count": 31,
   "metadata": {},
   "outputs": [],
   "source": [
    "# # =================================\n",
    "# # Legacy codes\n",
    "# # =================================\n",
    "\n",
    "# # sdata.shape\n",
    "# # (200, 1152012, 1)\n",
    "# print('\\n')\n",
    "# sen_batch = np.random.RandomState(seed=45).permutation(sdata.shape[0])\n",
    "# print(sen_batch)\n",
    "\n",
    "# print('\\n')\n",
    "# bins = np.linspace(0, 200, 41)\n",
    "# print(bins.shape)\n",
    "# print(bins)\n",
    "\n",
    "# print('\\n')\n",
    "# digitized = np.digitize(sen_batch, bins,right=False)\n",
    "# print(digitized.shape)\n",
    "# print(digitized)\n",
    "\n",
    "# # #instead of 10, run counter\n",
    "# # print(np.where(digitized==10))\n",
    "# # print(sdata[np.where(digitized==10)].shape)\n",
    "# # # (array([  0,  96, 101, 159, 183]),)\n",
    "# # # (5, 1152012, 1)\n",
    "\n",
    "# # dig_sort=digitized\n",
    "# # dig_sort.sort()\n",
    "# # # print(dig_sort)\n",
    "# # # [ 1  1  1  1  1  2  2  2  2  2  3  3  3  3  3  4  4  4  4  4  5  5  5  5\n",
    "# # #   5  6  6  6  6  6  7  7  7  7  7  8  8  8  8  8  9  9  9  9  9 10 10 10\n",
    "# # #  10 10 11 11 11 11 11 12 12 12 12 12 13 13 13 13 13 14 14 14 14 14 15 15\n",
    "# # #  15 15 15 16 16 16 16 16 17 17 17 17 17 18 18 18 18 18 19 19 19 19 19 20\n",
    "# # #  20 20 20 20 21 21 21 21 21 22 22 22 22 22 23 23 23 23 23 24 24 24 24 24\n",
    "# # #  25 25 25 25 25 26 26 26 26 26 27 27 27 27 27 28 28 28 28 28 29 29 29 29\n",
    "# # #  29 30 30 30 30 30 31 31 31 31 31 32 32 32 32 32 33 33 33 33 33 34 34 34\n",
    "# # #  34 34 35 35 35 35 35 36 36 36 36 36 37 37 37 37 37 38 38 38 38 38 39 39\n",
    "# # #  39 39 39 40 40 40 40 40]\n",
    "# # print(val_idx_k)\n",
    "# # # array([ 2,  3,  8, 10, 14, 15, 23, 24, 30, 32])\n",
    "# # print(val_idx_k+1)\n",
    "# # # array([ 3,  4,  9, 11, 15, 16, 24, 25, 31, 33])\n",
    "# # print('\\n')\n",
    "# # print(sdata[np.isin(digitized,train_idx_k+1)].shape)\n",
    "# # # (150, 1152012, 1)\n",
    "# # print(sdata[np.isin(digitized,val_idx_k+1)].shape)\n",
    "# # # (50, 1152012, 1)\n"
   ]
  },
  {
   "cell_type": "code",
   "execution_count": null,
   "metadata": {},
   "outputs": [],
   "source": []
  }
 ],
 "metadata": {
  "kernelspec": {
   "display_name": "Python 3",
   "language": "python",
   "name": "python3"
  },
  "language_info": {
   "codemirror_mode": {
    "name": "ipython",
    "version": 3
   },
   "file_extension": ".py",
   "mimetype": "text/x-python",
   "name": "python",
   "nbconvert_exporter": "python",
   "pygments_lexer": "ipython3",
   "version": "3.6.8"
  }
 },
 "nbformat": 4,
 "nbformat_minor": 2
}
